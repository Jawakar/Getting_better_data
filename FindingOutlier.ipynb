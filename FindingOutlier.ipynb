{
  "nbformat": 4,
  "nbformat_minor": 0,
  "metadata": {
    "colab": {
      "name": "FindingOutlier.ipynb",
      "provenance": []
    },
    "kernelspec": {
      "name": "python3",
      "display_name": "Python 3"
    },
    "language_info": {
      "name": "python"
    }
  },
  "cells": [
    {
      "cell_type": "markdown",
      "metadata": {
        "id": "u6avSd5luMhI"
      },
      "source": [
        "#Detecting outlier using Z score\n",
        "\n",
        "\n"
      ]
    },
    {
      "cell_type": "code",
      "metadata": {
        "colab": {
          "base_uri": "https://localhost:8080/"
        },
        "id": "BG7iychpo7nN",
        "outputId": "94d5e77d-6411-49bb-f00b-a122f2072af4"
      },
      "source": [
        "import numpy as np\n",
        "dataset = [11,10,12,14,12,15,14,13,15,1452,12,14,17,19,6787,10,13,12,14,12,3459,11,14,15,18,10]\n",
        "outliers = []\n",
        "def find_outliers(data):\n",
        "    mean = np.mean(data)\n",
        "    std = np.std(data)\n",
        "    for x in data:\n",
        "        z_score = (x-mean)/std\n",
        "        if np.abs(z_score)>3:\n",
        "            outliers.append(x)\n",
        "    return outliers\n",
        "\n",
        "is_outlier = find_outliers(dataset)\n",
        "print(outliers)"
      ],
      "execution_count": 13,
      "outputs": [
        {
          "output_type": "stream",
          "text": [
            "[6787]\n"
          ],
          "name": "stdout"
        }
      ]
    },
    {
      "cell_type": "markdown",
      "metadata": {
        "id": "WTHksznV2ycC"
      },
      "source": [
        "# Detecting using percentile scores"
      ]
    },
    {
      "cell_type": "code",
      "metadata": {
        "colab": {
          "base_uri": "https://localhost:8080/"
        },
        "id": "8OtYwqSuvuCj",
        "outputId": "21750b51-918b-4164-ec56-2e71f669a077"
      },
      "source": [
        "# first we sort the dataset in ascending order, then the values which is not between 25% and 75% is outlier\n",
        "dataset.sort()\n",
        "print(dataset)\n"
      ],
      "execution_count": 20,
      "outputs": [
        {
          "output_type": "stream",
          "text": [
            "[10, 10, 10, 11, 11, 12, 12, 12, 12, 12, 13, 13, 14, 14, 14, 14, 14, 15, 15, 15, 17, 18, 19, 1452, 3459, 6787]\n"
          ],
          "name": "stdout"
        }
      ]
    },
    {
      "cell_type": "code",
      "metadata": {
        "colab": {
          "base_uri": "https://localhost:8080/"
        },
        "id": "cVqKWD7r3xdS",
        "outputId": "91bc76f7-ecec-413f-dd0e-5f5dc3798e7d"
      },
      "source": [
        "quantile1, quantile3 = np.percentile(dataset,[25,75])\n",
        "iqr_val = quantile3 - quantile1\n",
        "print(iqr_val)"
      ],
      "execution_count": 21,
      "outputs": [
        {
          "output_type": "stream",
          "text": [
            "3.0\n"
          ],
          "name": "stdout"
        }
      ]
    },
    {
      "cell_type": "code",
      "metadata": {
        "colab": {
          "base_uri": "https://localhost:8080/"
        },
        "id": "5ER5dVgo6DdY",
        "outputId": "fde698b4-bc6c-4b69-c32c-1a050584f635"
      },
      "source": [
        "lower_bound = quantile1 - (1.5*iqr_val)\n",
        "upper_bound = quantile3 + (1.5*iqr_val)\n",
        "print(lower_bound, upper_bound)"
      ],
      "execution_count": 22,
      "outputs": [
        {
          "output_type": "stream",
          "text": [
            "7.5 19.5\n"
          ],
          "name": "stdout"
        }
      ]
    },
    {
      "cell_type": "code",
      "metadata": {
        "id": "1sZ6HqFT6ZaH"
      },
      "source": [
        "# So any data not in this range(7.5-19.5) is an outlier for this dataset"
      ],
      "execution_count": 23,
      "outputs": []
    },
    {
      "cell_type": "code",
      "metadata": {
        "id": "ll5P5Wkp6rRP"
      },
      "source": [
        ""
      ],
      "execution_count": null,
      "outputs": []
    }
  ]
}